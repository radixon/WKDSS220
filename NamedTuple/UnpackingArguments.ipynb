{
 "cells": [
  {
   "cell_type": "markdown",
   "id": "36156faf",
   "metadata": {},
   "source": [
    "# Unpacking Argument Lists\n",
    "\n",
    "An example of unpacking arguments in a namedtuple"
   ]
  },
  {
   "cell_type": "code",
   "execution_count": 1,
   "id": "468ee263",
   "metadata": {},
   "outputs": [],
   "source": [
    "from collections import namedtuple"
   ]
  },
  {
   "cell_type": "code",
   "execution_count": 2,
   "id": "c13754af",
   "metadata": {},
   "outputs": [],
   "source": [
    "# Create Tuple of information\n",
    "people = [('Bijan','Robinson','Atlanta Falcons'),\n",
    "          ('Jahmyr', 'Gibbs', 'Detroit Lions'),\n",
    "          ('Zay', 'Flowers', 'Baltimore Ravens'),\n",
    "          ('Kendre', 'Miller', 'New Orleans Saints'),\n",
    "          ('C.J.', 'Stroud', 'Houston Texans'),\n",
    "          ('Jalin', 'Hyatt', 'New York Giants')]"
   ]
  },
  {
   "cell_type": "code",
   "execution_count": 3,
   "id": "0b5b288a",
   "metadata": {},
   "outputs": [
    {
     "name": "stdout",
     "output_type": "stream",
     "text": [
      "Bijan Robinson team name:  Atlanta Falcons\n",
      "What is Zay last name:  Flowers\n"
     ]
    }
   ],
   "source": [
    "# To access information using indexes use people[row][column]\n",
    "# Remember Python uses a zero-indexed convention.  Meaning the first element is in the zero index\n",
    "\n",
    "# To access the team name of Bijan Robinson you need to access row 0, col 2\n",
    "print('Bijan Robinson team name: ', people[0][2])\n",
    "\n",
    "# To access the last of the third person in the tuple you have to access row 2, col 1\n",
    "print('What is Zay last name: ', people[2][1])"
   ]
  },
  {
   "cell_type": "markdown",
   "id": "88f4427c",
   "metadata": {},
   "source": [
    "# namedtuple\n",
    "\n",
    "The value of a named tuple, is it provides more expressive access to the tuple values.  The named tuple still allows access via index, yet this can be cumbersom with millions of entries."
   ]
  },
  {
   "cell_type": "code",
   "execution_count": 4,
   "id": "4f27556e",
   "metadata": {},
   "outputs": [],
   "source": [
    "# Create the form for which the namedtuple will take\n",
    "player = namedtuple('player',['firstname','lastname','teamname'])\n",
    "\n",
    "# Create an entry for the namedtuple\n",
    "bijan = player(people[0][0],people[0][1],people[0][2])"
   ]
  },
  {
   "cell_type": "code",
   "execution_count": 5,
   "id": "2b48e016",
   "metadata": {},
   "outputs": [
    {
     "name": "stdout",
     "output_type": "stream",
     "text": [
      "Bijan First Name:  Bijan\n",
      "Bijan Last Name:  Robinson\n",
      "Bijan Team Name:  Atlanta Falcons\n"
     ]
    }
   ],
   "source": [
    "# Access via index\n",
    "print('Bijan First Name: ',bijan[0])\n",
    "print('Bijan Last Name: ',bijan[1])\n",
    "print('Bijan Team Name: ',bijan[2])"
   ]
  },
  {
   "cell_type": "code",
   "execution_count": 6,
   "id": "8d59f935",
   "metadata": {},
   "outputs": [
    {
     "name": "stdout",
     "output_type": "stream",
     "text": [
      "Bijan First Name:  Bijan\n",
      "Bijan Last Name:  Robinson\n",
      "Bijan Team Name:  Atlanta Falcons\n"
     ]
    }
   ],
   "source": [
    "# Expressive Access\n",
    "print('Bijan First Name: ',bijan.firstname)\n",
    "print('Bijan Last Name: ',bijan.lastname)\n",
    "print('Bijan Team Name: ',bijan.teamname)"
   ]
  },
  {
   "cell_type": "markdown",
   "id": "a080f5f0",
   "metadata": {},
   "source": [
    "## Unpacking Argument List\n",
    "\n",
    "If you know you want to unpack the entire list us the *args method\n",
    "https://docs.python.org/3/tutorial/controlflow.html#tut-unpacking-arguments"
   ]
  },
  {
   "cell_type": "code",
   "execution_count": 7,
   "id": "eaa59e3a",
   "metadata": {},
   "outputs": [],
   "source": [
    "nflPlayers = [player(*entry) for entry in people]"
   ]
  },
  {
   "cell_type": "code",
   "execution_count": 8,
   "id": "270943a9",
   "metadata": {},
   "outputs": [
    {
     "data": {
      "text/plain": [
       "[player(firstname='Bijan', lastname='Robinson', teamname='Atlanta Falcons'),\n",
       " player(firstname='Jahmyr', lastname='Gibbs', teamname='Detroit Lions'),\n",
       " player(firstname='Zay', lastname='Flowers', teamname='Baltimore Ravens'),\n",
       " player(firstname='Kendre', lastname='Miller', teamname='New Orleans Saints'),\n",
       " player(firstname='C.J.', lastname='Stroud', teamname='Houston Texans'),\n",
       " player(firstname='Jalin', lastname='Hyatt', teamname='New York Giants')]"
      ]
     },
     "execution_count": 8,
     "metadata": {},
     "output_type": "execute_result"
    }
   ],
   "source": [
    "nflPlayers"
   ]
  },
  {
   "cell_type": "code",
   "execution_count": null,
   "id": "7dc35f5f",
   "metadata": {},
   "outputs": [],
   "source": []
  }
 ],
 "metadata": {
  "kernelspec": {
   "display_name": "Python 3 (ipykernel)",
   "language": "python",
   "name": "python3"
  },
  "language_info": {
   "codemirror_mode": {
    "name": "ipython",
    "version": 3
   },
   "file_extension": ".py",
   "mimetype": "text/x-python",
   "name": "python",
   "nbconvert_exporter": "python",
   "pygments_lexer": "ipython3",
   "version": "3.9.12"
  }
 },
 "nbformat": 4,
 "nbformat_minor": 5
}
